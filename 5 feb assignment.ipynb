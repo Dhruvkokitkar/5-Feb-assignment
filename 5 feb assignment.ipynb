{
 "cells": [
  {
   "cell_type": "code",
   "execution_count": 1,
   "id": "fc38b9b5-b849-4506-bd67-3b8a1aec14c8",
   "metadata": {},
   "outputs": [],
   "source": [
    "#1)\n",
    "'''\n",
    "Class is the blueprint of the real world entity\n",
    "Object is used to accesss class and its variables\n",
    "'''\n",
    "\n",
    "class pratik:\n",
    "    pass\n",
    "\n",
    "a = pratik()"
   ]
  },
  {
   "cell_type": "code",
   "execution_count": 3,
   "id": "2eedf801-8d58-42fe-9be2-f66d7ece2127",
   "metadata": {},
   "outputs": [
    {
     "data": {
      "text/plain": [
       "' 2\\nFour Pillors of OOPS (Object Oriented Programming System)\\nInheritance, Polymorphism, Encapsulation and Abstraction.\\n'"
      ]
     },
     "execution_count": 3,
     "metadata": {},
     "output_type": "execute_result"
    }
   ],
   "source": [
    "''' 2\n",
    "Four Pillors of OOPS (Object Oriented Programming System)\n",
    "Inheritance, Polymorphism, Encapsulation and Abstraction.\n",
    "'''"
   ]
  },
  {
   "cell_type": "code",
   "execution_count": 42,
   "id": "e7c27f8d-0d51-4fce-a1cc-1d78d85dc8cf",
   "metadata": {},
   "outputs": [],
   "source": [
    "''' 3\n",
    "_init_ function is a Constructor Function and an Inbuilt Constructor.\n",
    "It helps a class to take data.\n",
    "'''\n",
    "\n",
    "class dhruv:\n",
    "    def __init__(self, name, email):\n",
    "        self.name = name\n",
    "        self.email = email\n",
    "    \n",
    "    def details(self):\n",
    "        return self.name, self.email"
   ]
  },
  {
   "cell_type": "code",
   "execution_count": 43,
   "id": "ca7cb648-d004-4b0a-b95d-7aea28d017a8",
   "metadata": {},
   "outputs": [],
   "source": [
    "student1 = dhruv('rohan', 'dhruv4@gmail.com')"
   ]
  },
  {
   "cell_type": "code",
   "execution_count": 44,
   "id": "1cdabbe9-e20e-41f9-99b6-b66813db525e",
   "metadata": {},
   "outputs": [
    {
     "data": {
      "text/plain": [
       "'dhruv4@gmail.com'"
      ]
     },
     "execution_count": 44,
     "metadata": {},
     "output_type": "execute_result"
    }
   ],
   "source": [
    "student1.email"
   ]
  },
  {
   "cell_type": "code",
   "execution_count": 13,
   "id": "20bbc6a3-4b3e-4c45-a267-3bef527c8917",
   "metadata": {},
   "outputs": [
    {
     "data": {
      "text/plain": [
       "'\\nWe use \"self\" whenever we are trying to create a function inside a class we have give that functin a reference / pointer\\nto the class so that the classs can get to know the function is declared under it or so the class can use the function\\n'"
      ]
     },
     "execution_count": 13,
     "metadata": {},
     "output_type": "execute_result"
    }
   ],
   "source": [
    "#4)\n",
    "'''\n",
    "We use \"self\" whenever we are trying to create a function inside a class we have give that functin a reference / pointer\n",
    "to the class so that the classs can get to know the function is declared under it or so the class can use the function\n",
    "'''"
   ]
  },
  {
   "cell_type": "code",
   "execution_count": 14,
   "id": "47ea6308-fe77-48c3-9faa-56a1c56f0f99",
   "metadata": {},
   "outputs": [
    {
     "data": {
      "text/plain": [
       "'\\nInheritance means taking the properties or inheriting the properties of the other class (main / sub class).\\nthere are 3 types of inheritance:\\n1) Simple\\n2) MultiLevel\\n3) Multiple\\n'"
      ]
     },
     "execution_count": 14,
     "metadata": {},
     "output_type": "execute_result"
    }
   ],
   "source": [
    "#5)\n",
    "'''\n",
    "Inheritance means taking the properties or inheriting the properties of the other class (main / sub class).\n",
    "there are 3 types of inheritance:\n",
    "1) Simple\n",
    "2) MultiLevel\n",
    "3) Multiple\n",
    "'''"
   ]
  },
  {
   "cell_type": "code",
   "execution_count": 15,
   "id": "93278bae-bc41-4980-90f0-3968ea5df7c9",
   "metadata": {},
   "outputs": [],
   "source": [
    "#Simple Inheritance\n",
    "class parent:\n",
    "    def parent_func(self):\n",
    "        print(\"Parent Function\")"
   ]
  },
  {
   "cell_type": "code",
   "execution_count": 16,
   "id": "06565e6d-e049-4298-aaed-d663fc698adc",
   "metadata": {},
   "outputs": [],
   "source": [
    "class child(parent):\n",
    "    pass"
   ]
  },
  {
   "cell_type": "code",
   "execution_count": 17,
   "id": "aec845d9-8feb-440e-9d80-fe50aa13d353",
   "metadata": {},
   "outputs": [],
   "source": [
    "child_obj = child()"
   ]
  },
  {
   "cell_type": "code",
   "execution_count": 18,
   "id": "8eb52452-1be9-4505-8cf2-754ecb428d4b",
   "metadata": {},
   "outputs": [
    {
     "name": "stdout",
     "output_type": "stream",
     "text": [
      "Parent Function\n"
     ]
    }
   ],
   "source": [
    "child_obj.parent_func()"
   ]
  },
  {
   "cell_type": "code",
   "execution_count": 19,
   "id": "28da1354-e3b7-456b-b838-da86f3fb35dd",
   "metadata": {},
   "outputs": [],
   "source": [
    "#Multilevel Inheritance\n",
    "class parent1:\n",
    "    def parent1_func(self):\n",
    "        print(\"Parent1 Function\")\n",
    "        \n",
    "class parent2(parent1):\n",
    "    def parent2_func(self):\n",
    "        print(\"Parent2 Fucntion\")\n",
    "        \n",
    "class parent3(parent2):\n",
    "    def parent3_func(self):\n",
    "        print(\"Parent3 Function\")"
   ]
  },
  {
   "cell_type": "code",
   "execution_count": 20,
   "id": "b07a333b-5daf-4f20-ab98-58dc13e54b98",
   "metadata": {},
   "outputs": [],
   "source": [
    "parent3_obj = parent3()"
   ]
  },
  {
   "cell_type": "code",
   "execution_count": 21,
   "id": "cc657dc7-1342-463e-9cd0-532beb6be20b",
   "metadata": {},
   "outputs": [
    {
     "name": "stdout",
     "output_type": "stream",
     "text": [
      "Parent1 Function\n"
     ]
    }
   ],
   "source": [
    "parent3_obj.parent1_func()"
   ]
  },
  {
   "cell_type": "code",
   "execution_count": 22,
   "id": "4d0ac18a-f3a1-4296-82df-d7e20d62b95f",
   "metadata": {},
   "outputs": [],
   "source": [
    "#Multiple Inheritance\n",
    "class parent1:\n",
    "    def parent1_func(self):\n",
    "        print(\"Parent1 Function\")\n",
    "        \n",
    "class parent2:\n",
    "    def parent2_func(self):\n",
    "        print(\"Parent2 Fucntion\")\n",
    "        \n",
    "class child(parent1, parent2):\n",
    "    def parent3_func(self):\n",
    "        print(\"Parent3 Function\")"
   ]
  },
  {
   "cell_type": "code",
   "execution_count": 23,
   "id": "f41e83b1-e19f-4cc7-a835-509fca03763f",
   "metadata": {},
   "outputs": [],
   "source": [
    "child_obj = child()"
   ]
  },
  {
   "cell_type": "code",
   "execution_count": 24,
   "id": "11697ff3-f3b9-40d2-b1ca-be89bea3cbaa",
   "metadata": {},
   "outputs": [
    {
     "name": "stdout",
     "output_type": "stream",
     "text": [
      "Parent2 Fucntion\n"
     ]
    }
   ],
   "source": [
    "child_obj.parent2_func()"
   ]
  },
  {
   "cell_type": "code",
   "execution_count": 30,
   "id": "d09602cc-85a4-4e45-b5f8-b7bd5044f234",
   "metadata": {},
   "outputs": [
    {
     "data": {
      "text/plain": [
       "'\\nWe use \"self\" whenever we are trying to create a function inside a class we have to give that function a reference / pointer\\nto the class so that the class can get to know the function is declared under it or so the class can use the function\\n'"
      ]
     },
     "execution_count": 30,
     "metadata": {},
     "output_type": "execute_result"
    }
   ],
   "source": [
    "#4)\n",
    "'''\n",
    "We use \"self\" whenever we are trying to create a function inside a class we have to give that function a reference / pointer\n",
    "to the class so that the class can get to know the function is declared under it or so the class can use the function\n",
    "'''"
   ]
  },
  {
   "cell_type": "code",
   "execution_count": null,
   "id": "4cce7bf6-1a13-437a-9549-bfcc382bde99",
   "metadata": {},
   "outputs": [],
   "source": []
  }
 ],
 "metadata": {
  "kernelspec": {
   "display_name": "Python 3 (ipykernel)",
   "language": "python",
   "name": "python3"
  },
  "language_info": {
   "codemirror_mode": {
    "name": "ipython",
    "version": 3
   },
   "file_extension": ".py",
   "mimetype": "text/x-python",
   "name": "python",
   "nbconvert_exporter": "python",
   "pygments_lexer": "ipython3",
   "version": "3.10.8"
  }
 },
 "nbformat": 4,
 "nbformat_minor": 5
}
